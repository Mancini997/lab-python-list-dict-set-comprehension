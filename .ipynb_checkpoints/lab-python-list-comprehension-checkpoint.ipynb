{
 "cells": [
  {
   "cell_type": "markdown",
   "id": "25d7736c-ba17-4aff-b6bb-66eba20fbf4e",
   "metadata": {},
   "source": [
    "# Lab | List, Dict and Set Comprehension"
   ]
  },
  {
   "cell_type": "markdown",
   "id": "7dd3cbde-675a-4b81-92c3-f728846dbe06",
   "metadata": {},
   "source": [
    "## Exercise: Managing Customer Orders Optimized with Comprehension"
   ]
  },
  {
   "cell_type": "markdown",
   "id": "5d500160-2fb7-4777-b5e4-09d45ebaf328",
   "metadata": {},
   "source": [
    "In the previous exercise, you developed a program to manage customer orders and inventory. Now, let's take it a step further and incorporate comprehension into your code.\n",
    "\n",
    "Follow the steps below to complete the exercise:\n",
    "\n",
    "1. Review your code from the previous exercise and identify areas where you can apply comprehension to simplify and streamline your code. \n",
    "\n",
    "    - *Hint: Apply it to initialize inventory, updating the inventory and printing the updated inventory.*\n",
    "    \n",
    "    - For example, in initializing the inventory, we could have:\n",
    "    \n",
    "        ```python\n",
    "        def initialize_inventory(products):\n",
    "            inventory = {product: int(input(f\"Enter the quantity of {product}s available: \")) for product in products}\n",
    "            return inventory\n",
    "\n",
    "        ```\n",
    "<br>\n",
    "    \n",
    "    \n",
    "2. Modify the function get_customer_orders so it prompts the user to enter the number of customer orders and gathers the product names using a loop and user input. Use comprehension.\n",
    "\n",
    "3. Add a new function to calculate the total price of the customer order. For each product in customer_orders, prompt the user to enter the price of that product. Use comprehension to calculate the total price. Note: assume that the user can only have 1 unit of each product.\n",
    "\n",
    "4. Modify the update_inventory function to remove the product from the inventory if its quantity becomes zero after fulfilling the customer orders. Use comprehension to filter out the products with a quantity of zero from the inventory.\n",
    "\n",
    "5. Print the total price of the customer order.\n",
    "\n",
    "Your code should produce output similar to the following:\n",
    "\n",
    "```python\n",
    "Enter the quantity of t-shirts available:  5\n",
    "Enter the quantity of mugs available:  4\n",
    "Enter the quantity of hats available:  3\n",
    "Enter the quantity of books available:  2\n",
    "Enter the quantity of keychains available:  1\n",
    "Enter the number of customer orders:  2\n",
    "Enter the name of a product that a customer wants to order:  hat\n",
    "Enter the name of a product that a customer wants to order:  keychain\n",
    "\n",
    "Order Statistics:\n",
    "Total Products Ordered: 2\n",
    "Percentage of Unique Products Ordered: 40.0\n",
    "\n",
    "Updated Inventory:\n",
    "t-shirt: 5\n",
    "mug: 4\n",
    "hat: 2\n",
    "book: 2\n",
    "Enter the price of keychain:  5\n",
    "Enter the price of hat:  10\n",
    "Total Price: 15.0\n",
    "\n",
    "```\n"
   ]
  },
  {
   "cell_type": "code",
   "execution_count": 2,
   "id": "3d52b561-bc5e-4357-9cef-434b20975172",
   "metadata": {},
   "outputs": [],
   "source": [
    "def initialize_inventory(products):\n",
    "    inventory = {product: int(input(f\"Enter the quantity of {product}s available: \")) for product in products}\n",
    "    return inventory"
   ]
  },
  {
   "cell_type": "code",
   "execution_count": 12,
   "id": "d9e6e4ce-7f85-4ace-a244-63ab995efed6",
   "metadata": {},
   "outputs": [],
   "source": [
    "def get_customer_orders(products):\n",
    "    num_orders = int(input(\"Enter the number of orders you want to place: \"))\n",
    "    customer_orders = []\n",
    "    for i in range(num_orders):\n",
    "        order_product = input(f\"Enter product name {i+1} (t-shirt, mug, hat, book, or keychain): \").strip().lower()\n",
    "        if order_product in products:\n",
    "            print(f\"{order_product} is in the cart.\")\n",
    "            customer_orders.append(order_product)\n",
    "        else:\n",
    "            print(\"Product not found. Enter a valid product name.\")\n",
    "    \n",
    "    return customer_orders\n"
   ]
  },
  {
   "cell_type": "code",
   "execution_count": 13,
   "id": "5ef60317-48ef-4539-b8e2-59f40077bd2d",
   "metadata": {},
   "outputs": [],
   "source": [
    "def calculate_total_price(customer_orders):\n",
    "    return sum(float(input(f\"Enter the price of {product}: \"))for product in customer_orders)"
   ]
  },
  {
   "cell_type": "code",
   "execution_count": 14,
   "id": "b668d6d3-73bb-4e6c-860b-91fcef45600f",
   "metadata": {},
   "outputs": [],
   "source": [
    "def update_inventory(customer_orders, inventory):\n",
    "    inventory = {\n",
    "        product: quantity - 1\n",
    "        for product, quantity in inventory.items()\n",
    "        if (product not in customer_orders) or (quantity - customer_orders.count(product) > 0)\n",
    "    }\n",
    "    out_of_stock = [\n",
    "        product for product in customer_orders\n",
    "        if product in inventory and inventory[product] <= 0\n",
    "    ]\n",
    "    [print(f\"Not enough {product}s in stock.\") for product in out_of_stock]\n",
    "    return {product: quantity for product, quantity in inventory.items() if quantity > 0}"
   ]
  },
  {
   "cell_type": "code",
   "execution_count": 15,
   "id": "20353def-2093-4ef4-ab22-8547a8f90817",
   "metadata": {},
   "outputs": [],
   "source": [
    "def calculate_order_statistics(customer_orders, products):\n",
    "    total_products = len(customer_orders)\n",
    "    unique_products = len(set(customer_orders))\n",
    "    percentage_unique = (unique_products / len(products)) * 100\n",
    "    return total_products, percentage_unique\n"
   ]
  },
  {
   "cell_type": "code",
   "execution_count": 16,
   "id": "21665cd3-066a-4755-942b-1eb15e0e00bd",
   "metadata": {},
   "outputs": [],
   "source": [
    "def print_order_statistics(order_statistics):\n",
    "    total_products, percentage_unique = order_statistics\n",
    "    print(f\"Total products ordered: {total_products}\")\n",
    "    print(f\"Percentage of unique products ordered: {percentage_unique:.2f}%\")"
   ]
  },
  {
   "cell_type": "code",
   "execution_count": 17,
   "id": "bd035124-425e-4f43-93aa-368b8cd99bc8",
   "metadata": {},
   "outputs": [],
   "source": [
    "def print_updated_inventory(inventory):\n",
    "    print(\"Updated inventory:\")\n",
    "    [print(f\"{product}: {quantity}\") for product, quantity in inventory.items()]"
   ]
  },
  {
   "cell_type": "code",
   "execution_count": 19,
   "id": "d5d0962e-d638-4c61-a879-b1f7c1e1fa60",
   "metadata": {},
   "outputs": [
    {
     "name": "stdin",
     "output_type": "stream",
     "text": [
      "Enter the quantity of t-shirts available:  3\n",
      "Enter the quantity of mugs available:  3\n",
      "Enter the quantity of hats available:  3\n",
      "Enter the quantity of books available:  3\n",
      "Enter the quantity of keychains available:  3\n",
      "Enter the number of orders you want to place:  2\n",
      "Enter product name 1 (t-shirt, mug, hat, book, or keychain):  hat\n"
     ]
    },
    {
     "name": "stdout",
     "output_type": "stream",
     "text": [
      "hat is in the cart.\n"
     ]
    },
    {
     "name": "stdin",
     "output_type": "stream",
     "text": [
      "Enter product name 2 (t-shirt, mug, hat, book, or keychain):  book\n"
     ]
    },
    {
     "name": "stdout",
     "output_type": "stream",
     "text": [
      "book is in the cart.\n"
     ]
    },
    {
     "name": "stdin",
     "output_type": "stream",
     "text": [
      "Enter the price of hat:  9.5\n",
      "Enter the price of book:  0.5\n"
     ]
    },
    {
     "name": "stdout",
     "output_type": "stream",
     "text": [
      "Total products ordered: 2\n",
      "Percentage of unique products ordered: 40.00%\n",
      "Updated inventory:\n",
      "t-shirt: 2\n",
      "mug: 2\n",
      "hat: 2\n",
      "book: 2\n",
      "keychain: 2\n",
      "Total Price is: 10.00\n"
     ]
    }
   ],
   "source": [
    "products = [\"t-shirt\", \"mug\", \"hat\", \"book\", \"keychain\"]\n",
    "\n",
    "inventory = initialize_inventory(products)\n",
    "customer_orders = get_customer_orders(products)\n",
    "order_statistics = calculate_order_statistics(customer_orders, products)\n",
    "total_price = calculate_total_price(customer_orders)\n",
    "inventory = update_inventory(customer_orders, inventory)\n",
    "\n",
    "print_order_statistics(order_statistics)\n",
    "print_updated_inventory(inventory)\n",
    "print(f\"Total Price is: {total_price:.2f}\")"
   ]
  },
  {
   "cell_type": "code",
   "execution_count": null,
   "id": "8c6e857c-918b-495e-aeec-91a1a0a6699e",
   "metadata": {},
   "outputs": [],
   "source": []
  }
 ],
 "metadata": {
  "kernelspec": {
   "display_name": "Python 3 (ipykernel)",
   "language": "python",
   "name": "python3"
  },
  "language_info": {
   "codemirror_mode": {
    "name": "ipython",
    "version": 3
   },
   "file_extension": ".py",
   "mimetype": "text/x-python",
   "name": "python",
   "nbconvert_exporter": "python",
   "pygments_lexer": "ipython3",
   "version": "3.11.7"
  }
 },
 "nbformat": 4,
 "nbformat_minor": 5
}
